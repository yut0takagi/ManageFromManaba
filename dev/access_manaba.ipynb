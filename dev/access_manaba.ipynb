{
 "cells": [
  {
   "cell_type": "code",
   "execution_count": 33,
   "metadata": {},
   "outputs": [],
   "source": [
    "from selenium import webdriver\n",
    "from selenium.webdriver.common.by import By\n",
    "import time\n",
    "from bs4 import BeautifulSoup\n",
    "import json"
   ]
  },
  {
   "cell_type": "code",
   "execution_count": 34,
   "metadata": {},
   "outputs": [],
   "source": [
    "driver = webdriver.Chrome()"
   ]
  },
  {
   "cell_type": "code",
   "execution_count": 35,
   "metadata": {},
   "outputs": [],
   "source": [
    "driver.get(\"https://room.chuo-u.ac.jp/ct/home\")"
   ]
  },
  {
   "cell_type": "code",
   "execution_count": null,
   "metadata": {},
   "outputs": [],
   "source": []
  },
  {
   "cell_type": "code",
   "execution_count": 36,
   "metadata": {},
   "outputs": [],
   "source": [
    "driver.find_element(By.ID, \"username_input\").send_keys(\"23D7104001I\")\n",
    "driver.find_element(By.ID, \"password_input\").send_keys(\"1025t1025\")\n",
    "driver.find_element(By.ID, \"login_button\").click()\n",
    "time.sleep(3)\n",
    "\n"
   ]
  },
  {
   "cell_type": "code",
   "execution_count": 37,
   "metadata": {},
   "outputs": [],
   "source": [
    "driver.get(\"https://room.chuo-u.ac.jp/ct/home\")\n",
    "html = driver.page_source"
   ]
  },
  {
   "cell_type": "code",
   "execution_count": 41,
   "metadata": {},
   "outputs": [],
   "source": [
    "def parse_timetable_from_manaba(html: str):\n",
    "    from bs4 import BeautifulSoup\n",
    "\n",
    "    soup = BeautifulSoup(html, 'html.parser')\n",
    "    table = soup.find(\"table\", class_=\"stdlist\")\n",
    "\n",
    "    # ヘッダーから曜日のリストを取得\n",
    "    days = []\n",
    "    for th in table.find(\"tr\", class_=\"title\").find_all(\"th\")[1:]:\n",
    "        days.append(th.text.strip())\n",
    "\n",
    "    timetable_data = []\n",
    "\n",
    "    # 時限ごとの行を解析\n",
    "    for tr in table.find_all(\"tr\")[1:]:\n",
    "        tds = tr.find_all(\"td\")\n",
    "        if not tds:\n",
    "            continue\n",
    "\n",
    "        period = tds[0].text.strip()\n",
    "\n",
    "        for i, td in enumerate(tds[1:]):\n",
    "            course_div = td.find(\"div\", class_=\"courselistweekly-c\")\n",
    "            if course_div:\n",
    "                a_tag = course_div.find(\"a\", href=True)\n",
    "                if a_tag:\n",
    "                    title = a_tag.text.strip()\n",
    "                    href = a_tag['href']\n",
    "                    has_unsubmitted = any(\n",
    "                        \"未提出の課題があります\" in img.get(\"alt\", \"\") \n",
    "                        for img in course_div.find_all(\"img\")\n",
    "                    )\n",
    "                    timetable_data.append({\n",
    "                        \"day\": days[i],\n",
    "                        \"period\": int(period) if period.isdigit() else period,\n",
    "                        \"title\": title,\n",
    "                        \"href\": href,\n",
    "                        \"has_unsubmitted\": has_unsubmitted\n",
    "                    })\n",
    "\n",
    "    return timetable_data"
   ]
  },
  {
   "cell_type": "code",
   "execution_count": 43,
   "metadata": {},
   "outputs": [],
   "source": [
    "data = parse_timetable_from_manaba(html)"
   ]
  },
  {
   "cell_type": "code",
   "execution_count": 44,
   "metadata": {},
   "outputs": [
    {
     "data": {
      "text/plain": [
       "[{'day': '月',\n",
       "  'period': 1,\n",
       "  'title': '学問最前線',\n",
       "  'href': 'course_5644371',\n",
       "  'has_unsubmitted': True},\n",
       " {'day': '水',\n",
       "  'period': 1,\n",
       "  'title': '人工知能基礎論',\n",
       "  'href': 'course_5646094',\n",
       "  'has_unsubmitted': True},\n",
       " {'day': '月',\n",
       "  'period': 2,\n",
       "  'title': 'オペレーションズ・リサーチ１',\n",
       "  'href': 'course_5646028',\n",
       "  'has_unsubmitted': False},\n",
       " {'day': '火',\n",
       "  'period': 2,\n",
       "  'title': '応用解析１',\n",
       "  'href': 'course_5645995',\n",
       "  'has_unsubmitted': False},\n",
       " {'day': '水',\n",
       "  'period': 2,\n",
       "  'title': '信頼性工学',\n",
       "  'href': 'course_5646055',\n",
       "  'has_unsubmitted': False},\n",
       " {'day': '木',\n",
       "  'period': 2,\n",
       "  'title': '機械学習基礎論',\n",
       "  'href': 'course_5646064',\n",
       "  'has_unsubmitted': False},\n",
       " {'day': '金',\n",
       "  'period': 2,\n",
       "  'title': 'マーケティング・リサーチ',\n",
       "  'href': 'course_5646043',\n",
       "  'has_unsubmitted': False},\n",
       " {'day': '月',\n",
       "  'period': 3,\n",
       "  'title': 'ヒューマンメディア工学',\n",
       "  'href': 'course_5646097',\n",
       "  'has_unsubmitted': True},\n",
       " {'day': '火',\n",
       "  'period': 3,\n",
       "  'title': 'データサイエンス実験Ｂ',\n",
       "  'href': 'course_5646010',\n",
       "  'has_unsubmitted': False},\n",
       " {'day': '木',\n",
       "  'period': 3,\n",
       "  'title': '情報通信産業論',\n",
       "  'href': 'course_5644755',\n",
       "  'has_unsubmitted': False},\n",
       " {'day': '月',\n",
       "  'period': 4,\n",
       "  'title': '生命と多様性Ⅰ',\n",
       "  'href': 'course_5643936',\n",
       "  'has_unsubmitted': False},\n",
       " {'day': '木',\n",
       "  'period': 4,\n",
       "  'title': 'ＯＲ演習',\n",
       "  'href': 'course_5646169',\n",
       "  'has_unsubmitted': False},\n",
       " {'day': '火',\n",
       "  'period': 5,\n",
       "  'title': '中国語ＢⅠ',\n",
       "  'href': 'course_5643408',\n",
       "  'has_unsubmitted': False},\n",
       " {'day': '水',\n",
       "  'period': 5,\n",
       "  'title': 'コンピュータ工学基礎',\n",
       "  'href': 'course_5645559',\n",
       "  'has_unsubmitted': False}]"
      ]
     },
     "execution_count": 44,
     "metadata": {},
     "output_type": "execute_result"
    }
   ],
   "source": []
  },
  {
   "cell_type": "code",
   "execution_count": null,
   "metadata": {},
   "outputs": [],
   "source": []
  }
 ],
 "metadata": {
  "kernelspec": {
   "display_name": "ManageFromManaba-06ueUbNL",
   "language": "python",
   "name": "python3"
  },
  "language_info": {
   "codemirror_mode": {
    "name": "ipython",
    "version": 3
   },
   "file_extension": ".py",
   "mimetype": "text/x-python",
   "name": "python",
   "nbconvert_exporter": "python",
   "pygments_lexer": "ipython3",
   "version": "3.11.7"
  }
 },
 "nbformat": 4,
 "nbformat_minor": 2
}
